{
 "cells": [
  {
   "cell_type": "code",
   "execution_count": 10,
   "id": "53044d0e",
   "metadata": {},
   "outputs": [],
   "source": [
    "import os"
   ]
  },
  {
   "cell_type": "code",
   "execution_count": 15,
   "id": "50b074d0",
   "metadata": {},
   "outputs": [],
   "source": [
    "from urllib.request import urlretrieve as retrieve"
   ]
  },
  {
   "cell_type": "code",
   "execution_count": 28,
   "id": "85a4d64d",
   "metadata": {},
   "outputs": [],
   "source": [
    "url = ##paste ur url here"
   ]
  },
  {
   "cell_type": "code",
   "execution_count": 29,
   "id": "ea03b380",
   "metadata": {},
   "outputs": [
    {
     "data": {
      "text/plain": [
       "('aqi2018.csv', <http.client.HTTPMessage at 0x2352d34ea60>)"
      ]
     },
     "execution_count": 29,
     "metadata": {},
     "output_type": "execute_result"
    }
   ],
   "source": [
    "retrieve(url, \"aqi2018.csv\")"
   ]
  },
  {
   "cell_type": "code",
   "execution_count": 21,
   "id": "b91b7155",
   "metadata": {},
   "outputs": [
    {
     "data": {
      "text/plain": [
       "'C:\\\\Users\\\\home1'"
      ]
     },
     "execution_count": 21,
     "metadata": {},
     "output_type": "execute_result"
    }
   ],
   "source": []
  },
  {
   "cell_type": "code",
   "execution_count": null,
   "id": "7e26e6a3",
   "metadata": {},
   "outputs": [],
   "source": []
  }
 ],
 "metadata": {
  "kernelspec": {
   "display_name": "Python 3",
   "language": "python",
   "name": "python3"
  },
  "language_info": {
   "codemirror_mode": {
    "name": "ipython",
    "version": 3
   },
   "file_extension": ".py",
   "mimetype": "text/x-python",
   "name": "python",
   "nbconvert_exporter": "python",
   "pygments_lexer": "ipython3",
   "version": "3.8.8"
  }
 },
 "nbformat": 4,
 "nbformat_minor": 5
}
